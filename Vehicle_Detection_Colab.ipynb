{
 "cells": [
  {
   "cell_type": "markdown",
   "metadata": {},
   "source": [
    "# Vehicle Detection Project - Colab Version\n",
    "\n",
    "This notebook is set up to run your vehicle detection project in Google Colab. Follow the steps below to get started."
   ]
  },
  {
   "cell_type": "markdown",
   "metadata": {},
   "source": [
    "## 1. Mount Google Drive\n",
    "\n",
    "First, mount your Google Drive to access your project files:"
   ]
  },
  {
   "cell_type": "code",
   "execution_count": null,
   "metadata": {},
   "outputs": [],
   "source": [
    "from google.colab import drive\n",
    "drive.mount('/content/drive')"
   ]
  },
  {
   "cell_type": "markdown",
   "metadata": {},
   "source": [
    "## 2. Set Up Project Paths\n",
    "\n",
    "Set the paths to your project directory, images, and labels file:"
   ]
  },
  {
   "cell_type": "code",
   "execution_count": null,
   "metadata": {},
   "outputs": [],
   "source": [
    "import os\n",
    "\n",
    "# Set the path to your project directory in Google Drive\n",
    "PROJECT_PATH = '/content/drive/MyDrive/PGAIML_Colab'  # Adjust this path as needed\n",
    "\n",
    "# Set paths to images and labels\n",
    "IMAGES_DIR = os.path.join(PROJECT_PATH, 'Images')\n",
    "LABELS_PATH = os.path.join(PROJECT_PATH, 'labels.csv')\n",
    "\n",
    "# Verify paths\n",
    "print(f\"Project directory: {PROJECT_PATH}\")\n",
    "print(f\"Images directory: {IMAGES_DIR}\")\n",
    "print(f\"Labels file: {LABELS_PATH}\")\n",
    "\n",
    "# Check if the paths exist\n",
    "print(f\"Images directory exists: {os.path.exists(IMAGES_DIR)}\")\n",
    "print(f\"Labels file exists: {os.path.exists(LABELS_PATH)}\")"
   ]
  },
  {
   "cell_type": "markdown",
   "metadata": {},
   "source": [
    "## 3. Install Required Packages\n",
    "\n",
    "Install any additional packages you might need:"
   ]
  },
  {
   "cell_type": "code",
   "execution_count": null,
   "metadata": {},
   "outputs": [],
   "source": [
    "# Install any additional packages if needed\n",
    "# !pip install package-name"
   ]
  },
  {
   "cell_type": "markdown",
   "metadata": {},
   "source": [
    "## 4. Import Libraries"
   ]
  },
  {
   "cell_type": "code",
   "execution_count": null,
   "metadata": {},
   "outputs": [],
   "source": [
    "import numpy as np\n",
    "import pandas as pd\n",
    "import matplotlib.pyplot as plt\n",
    "import cv2\n",
    "import tensorflow as tf\n",
    "from sklearn.model_selection import train_test_split\n",
    "import os\n",
    "import seaborn as sns\n",
    "\n",
    "# Set random seeds for reproducibility\n",
    "np.random.seed(42)\n",
    "tf.random.set_seed(42)\n",
    "\n",
    "# Configure matplotlib for better visualization\n",
    "plt.rcParams['figure.figsize'] = (10, 8)\n",
    "plt.style.use('ggplot')"
   ]
  },
  {
   "cell_type": "markdown",
   "metadata": {},
   "source": [
    "## 5. Load and Explore the Dataset"
   ]
  },
  {
   "cell_type": "code",
   "execution_count": null,
   "metadata": {},
   "outputs": [],
   "source": [
    "# Load the labels CSV file with proper column names\n",
    "try:\n",
    "    # Add proper column names since the CSV doesn't have headers\n",
    "    labels_df = pd.read_csv(LABELS_PATH, header=None, \n",
    "                           names=['image_id', 'class', 'x_min', 'y_min', 'x_max', 'y_max'])\n",
    "    print(f\"Labels dataframe shape: {labels_df.shape}\")\n",
    "    print(\"\\nFirst few rows of the labels dataframe:\")\n",
    "    display(labels_df.head())\n",
    "    \n",
    "    # Check for missing values\n",
    "    print(\"\\nMissing values in each column:\")\n",
    "    display(labels_df.isnull().sum())\n",
    "    \n",
    "    # Get column information\n",
    "    print(\"\\nColumn information:\")\n",
    "    display(labels_df.info())\n",
    "    \n",
    "    # Check unique values for categorical columns\n",
    "    print(\"\\nUnique vehicle classes:\")\n",
    "    display(labels_df['class'].value_counts())\n",
    "except Exception as e:\n",
    "    print(f\"Error loading labels file: {e}\")\n",
    "    print(\"We'll proceed assuming the labels file contains image IDs, bounding box coordinates, and class labels.\")"
   ]
  }
 ],
 "metadata": {
  "kernelspec": {
   "display_name": "Python 3",
   "language": "python",
   "name": "python3"
  },
  "language_info": {
   "codemirror_mode": {
    "name": "ipython",
    "version": 3
   },
   "file_extension": ".py",
   "mimetype": "text/x-python",
   "name": "python",
   "nbconvert_exporter": "python",
   "pygments_lexer": "ipython3",
   "version": "3.8.5"
  }
 },
 "nbformat": 4,
 "nbformat_minor": 4
}
